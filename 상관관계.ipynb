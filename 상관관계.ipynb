{
 "cells": [
  {
   "cell_type": "code",
   "execution_count": 1,
   "metadata": {},
   "outputs": [],
   "source": [
    "import numpy as np\n",
    "import pandas as pd"
   ]
  },
  {
   "cell_type": "code",
   "execution_count": 2,
   "metadata": {},
   "outputs": [
    {
     "data": {
      "text/html": [
       "<div>\n",
       "<style scoped>\n",
       "    .dataframe tbody tr th:only-of-type {\n",
       "        vertical-align: middle;\n",
       "    }\n",
       "\n",
       "    .dataframe tbody tr th {\n",
       "        vertical-align: top;\n",
       "    }\n",
       "\n",
       "    .dataframe thead th {\n",
       "        text-align: right;\n",
       "    }\n",
       "</style>\n",
       "<table border=\"1\" class=\"dataframe\">\n",
       "  <thead>\n",
       "    <tr style=\"text-align: right;\">\n",
       "      <th></th>\n",
       "      <th>행정구역별</th>\n",
       "      <th>CCTV총합</th>\n",
       "    </tr>\n",
       "  </thead>\n",
       "  <tbody>\n",
       "    <tr>\n",
       "      <th>0</th>\n",
       "      <td>서울특별시</td>\n",
       "      <td>59483</td>\n",
       "    </tr>\n",
       "    <tr>\n",
       "      <th>1</th>\n",
       "      <td>강남구</td>\n",
       "      <td>6766</td>\n",
       "    </tr>\n",
       "    <tr>\n",
       "      <th>2</th>\n",
       "      <td>관악구</td>\n",
       "      <td>4647</td>\n",
       "    </tr>\n",
       "    <tr>\n",
       "      <th>3</th>\n",
       "      <td>구로구</td>\n",
       "      <td>4329</td>\n",
       "    </tr>\n",
       "    <tr>\n",
       "      <th>4</th>\n",
       "      <td>영등포구</td>\n",
       "      <td>3775</td>\n",
       "    </tr>\n",
       "    <tr>\n",
       "      <th>5</th>\n",
       "      <td>은평구</td>\n",
       "      <td>3541</td>\n",
       "    </tr>\n",
       "  </tbody>\n",
       "</table>\n",
       "</div>"
      ],
      "text/plain": [
       "   행정구역별 CCTV총합\n",
       "0  서울특별시  59483\n",
       "1    강남구   6766\n",
       "2    관악구   4647\n",
       "3    구로구   4329\n",
       "4   영등포구   3775\n",
       "5    은평구   3541"
      ]
     },
     "execution_count": 2,
     "metadata": {},
     "output_type": "execute_result"
    }
   ],
   "source": [
    "cctv_seoul = pd.read_csv(\"data/서울CCTV현황.csv\", index_col = 0)\n",
    "column = [\"행정구역별\", \"주소\", \"사용목적\", \"lat\", \"lng\", \"갯수\", \"UpdateDate\"]\n",
    "cctv_seoul.columns = column\n",
    "cctv_seoul_total = pd.DataFrame(cctv_seoul[\"행정구역별\"].value_counts())\n",
    "cctv_seoul_total.reset_index(drop = False, inplace = True)\n",
    "cctv_seoul_total.columns = [\"행정구역별\", \"CCTV총합\"]\n",
    "total = cctv_seoul_total[\"CCTV총합\"].sum()\n",
    "cctv_seoul_total.loc[len(cctv_seoul_total)] = [\"\", \"\"]\n",
    "cctv_seoul_total = cctv_seoul_total.shift(1)\n",
    "cctv_seoul_total.iloc[0] = [\"서울특별시\", total]\n",
    "cctv_seoul_total.sort_values(\"CCTV총합\", ascending=False).head(6)"
   ]
  },
  {
   "cell_type": "code",
   "execution_count": null,
   "metadata": {},
   "outputs": [],
   "source": [
    "pop_seoul = pd.read_csv(\"data/인구__가구_및_주택__읍면동_2015_2020___시군구_20162019__20220603165301.csv\", encoding=\"cp949\")\n",
    "pop_seoul_2020 = pd.DataFrame(pop_seoul[[\"행정구역별(읍면동)\", \"2020\", \"2020.1\", \"2020.2\"]])\n",
    "column1 = [\"행정구역별\", \"총인구(명)\", \"남자(명)\", \"여자(명)\"]\n",
    "pop_seoul_2020.drop(0, inplace = True)\n",
    "pop_seoul_2020.columns = column1\n",
    "pop_seoul_2020.sort_values(\"총인구(명)\", ascending=False).head(6)"
   ]
  },
  {
   "cell_type": "code",
   "execution_count": null,
   "metadata": {},
   "outputs": [],
   "source": [
    "pop_cctv_seoul = pd.merge(pop_seoul_2020, cctv_seoul_total, how=\"left\", on=\"행정구역별\")\n",
    "pop_cctv_seoul[[\"총인구(명)\", \"남자(명)\", \"여자(명)\", \"CCTV총합\"]] = pop_cctv_seoul[[\"총인구(명)\", \"남자(명)\", \"여자(명)\", \"CCTV총합\"]].astype(int)\n",
    "pop_cctv_seoul.set_index(\"행정구역별\", inplace=True)\n",
    "pop_cctv_seoul.head()"
   ]
  }
 ],
 "metadata": {
  "interpreter": {
   "hash": "1b360e2b78500ab129c04b8fe1ead32165e3707c39ac2de88285a03297525330"
  },
  "kernelspec": {
   "display_name": "Python 3.9.12 ('pydatavenv')",
   "language": "python",
   "name": "python3"
  },
  "language_info": {
   "codemirror_mode": {
    "name": "ipython",
    "version": 3
   },
   "file_extension": ".py",
   "mimetype": "text/x-python",
   "name": "python",
   "nbconvert_exporter": "python",
   "pygments_lexer": "ipython3",
   "version": "3.9.12"
  },
  "orig_nbformat": 4
 },
 "nbformat": 4,
 "nbformat_minor": 2
}
